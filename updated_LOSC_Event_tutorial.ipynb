{
 "cells": [
  {
   "cell_type": "markdown",
   "metadata": {
    "user_expressions": []
   },
   "source": [
    "This repository is public so that Binder can find it. All code and data is based on the original [LIGO Center for Open Science Tutorial Repository](https://github.com/losc-tutorial/LOSC_Event_tutorial). This repository is a class exercise that restructures the original LIGO code for improved reproducibility, as a homework assignment for the [Spring 2023 installment of UC Berkeley's Stat 159/259 course, _Reproducible and Collaborative Data Science_](https://ucb-stat-159-s23.github.io/). Authorship of the original analysis code rests with the LIGO collaboration."
   ]
  },
  {
   "cell_type": "markdown",
   "metadata": {
    "user_expressions": []
   },
   "source": [
    "# BINARY BLACK HOLE SIGNALS IN LIGO OPEN DATA \n",
    "\n",
    "Version 1.64, 2022 July 05\n",
    "\n",
    "Welcome! This IPython notebook (or associated python script LOSC_Event_tutorial.py ) will go through some typical signal processing tasks on strain time-series data associated with the LIGO Event data releases from the LIGO Open Science Center (LOSC):\n",
    "\n",
    "* Find events at https://www.gwosc.org/eventapi/.\n",
    "* Run this tutorial with Binder using the link on the <a href=\"https://www.gwosc.org/tutorials/\">tutorials</a> page.\n",
    "* If you are running this tutorial on your own computer, see the <a href=\"#Download-the-data\">Download</a> section below.\n",
    "* After setting the desired \"eventname\" below, you can just run the full notebook.\n",
    "\n",
    "Questions, comments, suggestions, corrections, etc: [ask.igwn.org](https://ask.igwn.org)"
   ]
  },
  {
   "cell_type": "markdown",
   "metadata": {
    "user_expressions": []
   },
   "source": [
    "## This tutorial is intended for educational purposes.  The code shown here is not used to produce results papers published by the LIGO Scientific Collaboration, which instead rely on special purpose analysis software packages.\n",
    "### For publicly available, gravitational-wave software analysis packages that are used to produce LSC and Virgo Collaboration results papers, see https://www.gwosc.org/software/.  \n",
    "### For technical notes on this tutorial, see https://www.gwosc.org/bbh_tutorial_notes/."
   ]
  },
  {
   "cell_type": "markdown",
   "metadata": {
    "user_expressions": []
   },
   "source": [
    "## Table of Contents\n",
    "* <a href='#Intro-to-signal-processing'>Intro to signal processing</a>\n",
    "* <a href='#Download-the-data-on-a-computer-with-a-python-installation'>Download the data</a>\n",
    "* <a href='#Set-the-event-name-to-choose-event-and-the-plot-type'>Set the event name to choose event and the plot type</a>\n",
    "* <a href='#Read-in-the-data'>Read in the data</a>\n",
    "* <a href='#Plot-the-Amplitude-Spectral-Density-(ASD)'>Plot the ASD</a>\n",
    "* <a href='#Binary-Neutron-Star-(BNS)-detection-range'>Binary Neutron Star detection range</a>\n",
    "* <a href='#Whitening'>Whitening</a>\n",
    "* <a href='#Spectrograms'>Spectrograms</a>\n",
    "* <a href='#Waveform-Template'>Waveform Template</a>\n",
    "* <a href='#Matched-filtering-to-find-the-signal'>Matched filtering to find the signal</a>\n",
    "* <a href='#Make-sound-files'>Make sound Files</a>\n",
    "* <a href='#Data-segments'>Data segments</a>"
   ]
  },
  {
   "cell_type": "markdown",
   "metadata": {
    "user_expressions": []
   },
   "source": [
    "## Intro to signal processing\n",
    "\n",
    "This tutorial assumes that you are comfortable with <a href=\"https://www.python.org/\">python</a>.\n",
    "\n",
    "This tutorial also assumes that you know a bit about signal processing of digital time series data (or want to learn!). This includes power spectral densities, spectrograms, digital filtering, whitening, audio manipulation. This is a vast and complex set of topics, but we will cover many of the basics in this tutorial.\n",
    "\n",
    "If you are a beginner, here are some resources from the web:\n",
    "* http://101science.com/dsp.htm\n",
    "* https://www.coursera.org/course/dsp\n",
    "* https://georgemdallas.wordpress.com/2014/05/14/wavelets-4-dummies-signal-processing-fourier-transforms-and-heisenberg/\n",
    "* https://en.wikipedia.org/wiki/Signal_processing\n",
    "* https://en.wikipedia.org/wiki/Spectral_density\n",
    "* https://en.wikipedia.org/wiki/Spectrogram\n",
    "* http://greenteapress.com/thinkdsp/\n",
    "* https://en.wikipedia.org/wiki/Digital_filter\n",
    "\n",
    "And, well, lots more on the web!"
   ]
  },
  {
   "cell_type": "markdown",
   "metadata": {
    "user_expressions": []
   },
   "source": [
    "## Download the data on a computer with a python installation\n",
    "\n",
    "If you are using a pre-configured setup (eg, in binder), great! You don't have to download or set up anything.\n",
    "\n",
    "Otherwise, to begin, get the necessary files, by downloading the zip file and unpacking it into single directory:\n",
    "* [LOSC_Event_tutorial.zip](https://github.com/losc-tutorial/LOSC_Event_tutorial/archive/refs/heads/master.zip)\n",
    "\n",
    "This zip file contains:\n",
    "\n",
    "* this IPython notebook LOSC_Event_tutorial.ipynb code. \n",
    "* python code for reading LOSC data files: readligo.py. \n",
    "* the event data files (32s sampled at 4096 Hz, in hdf5 format, for both LIGO detectors).\n",
    "* waveform templates (32s sampled at 4096 Hz, in hdf5 format, for both plus and cross polarizations).\n",
    "* a parameter file in json format\n",
    "\n",
    "You will also need a python installation with a few packages (<a href=\"http://www.numpy.org/\">numpy</a>, <a href=\"http://matplotlib.org/\">matplotlib</a>, <a href=\"https://www.scipy.org/\">scipy</a>, <a href=\"http://www.h5py.org/\">h5py</a>,  <a href=\"https://docs.python.org/2/library/json.html\">json</a> ).\n",
    "\n",
    "* For hints on software installation, see https://www.gwosc.org/tutorial00/\n",
    "* The tutorial should work on python 2.6 and above, including python 3, as well as in recent versions of IPython.\n",
    "* You *might* see Warning or `FutureWarning` messages, which tend to be associated with different versions of python, Ipython, numpy, etc. Hopefully they can be ignored!\n",
    "* the filetype \"hdf5\" means the data are in hdf5 format:\n",
    "https://www.hdfgroup.org/HDF5/\n",
    "* NOTE: GPS time is number of seconds since Jan 6, 1980 GMT. See http://www.oc.nps.edu/oc2902w/gps/timsys.html or https://www.gwosc.org/gps/ \n"
   ]
  },
  {
   "cell_type": "markdown",
   "metadata": {
    "user_expressions": []
   },
   "source": [
    "## Set the event name to choose event and the plot type"
   ]
  },
  {
   "cell_type": "code",
   "execution_count": 15,
   "metadata": {
    "collapsed": false,
    "jupyter": {
     "outputs_hidden": false
    }
   },
   "outputs": [],
   "source": [
    "#-- SET ME   Tutorial should work with most binary black hole events\n",
    "#-- Default is no event selection; you MUST select one to proceed.\n",
    "eventname = ''\n",
    "eventname = 'GW150914' \n",
    "#eventname = 'GW151226' \n",
    "#eventname = 'LVT151012'\n",
    "#eventname = 'GW170104'\n",
    "\n",
    "# want plots?\n",
    "make_plots = 1\n",
    "plottype = \"png\"\n",
    "#plottype = \"pdf\""
   ]
  },
  {
   "cell_type": "code",
   "execution_count": 16,
   "metadata": {
    "collapsed": false,
    "jupyter": {
     "outputs_hidden": false
    }
   },
   "outputs": [],
   "source": [
    "# Standard python numerical analysis imports:\n",
    "import numpy as np\n",
    "from scipy import signal\n",
    "from scipy.interpolate import interp1d\n",
    "from scipy.signal import butter, filtfilt, iirdesign, zpk2tf, freqz\n",
    "import h5py\n",
    "import json\n",
    "\n",
    "# the IPython magic below must be commented out in the .py file, since it doesn't work there.\n",
    "%matplotlib inline\n",
    "%config InlineBackend.figure_format = 'retina'\n",
    "import matplotlib.pyplot as plt\n",
    "import matplotlib.mlab as mlab\n",
    "\n",
    "# LIGO-specific readligo.py \n",
    "from ligotools import readligo as rl\n",
    "\n",
    "from ligotools.utils import whiten, write_wavfile, reqshift\n",
    "\n",
    "# you might get a matplotlib warning here; you can ignore it."
   ]
  },
  {
   "cell_type": "markdown",
   "metadata": {
    "user_expressions": []
   },
   "source": [
    "### Read the event properties from a local json file (download in advance):"
   ]
  },
  {
   "cell_type": "code",
   "execution_count": 17,
   "metadata": {
    "collapsed": false,
    "jupyter": {
     "outputs_hidden": false
    }
   },
   "outputs": [],
   "source": [
    "# Read the event properties from a local json file\n",
    "fnjson = \"data/BBH_events_v3.json\"\n",
    "try:\n",
    "    events = json.load(open(fnjson,\"r\"))\n",
    "except IOError:\n",
    "    print(\"Cannot find resource file \"+fnjson)\n",
    "    print(\"You can download it from https://www.gwosc.org/s/events/\"+fnjson)\n",
    "    print(\"Quitting.\")\n",
    "    quit()\n",
    "\n",
    "# did the user select the eventname ?\n",
    "try: \n",
    "    events[eventname]\n",
    "except:\n",
    "    print('You must select an eventname that is in '+fnjson+'! Quitting.')\n",
    "    quit()"
   ]
  },
  {
   "cell_type": "code",
   "execution_count": 18,
   "metadata": {
    "collapsed": false,
    "jupyter": {
     "outputs_hidden": false
    }
   },
   "outputs": [
    {
     "name": "stdout",
     "output_type": "stream",
     "text": [
      "Reading in parameters for event GW150914\n",
      "{'name': 'GW150914', 'fn_H1': 'H-H1_LOSC_4_V2-1126259446-32.hdf5', 'fn_L1': 'L-L1_LOSC_4_V2-1126259446-32.hdf5', 'fn_template': 'GW150914_4_template.hdf5', 'fs': 4096, 'tevent': 1126259462.44, 'utcevent': '2015-09-14T09:50:45.44', 'm1': 41.743, 'm2': 29.237, 'a1': 0.355, 'a2': -0.769, 'approx': 'lalsim.SEOBNRv2', 'fband': [43.0, 300.0], 'f_min': 10.0}\n"
     ]
    }
   ],
   "source": [
    "# Extract the parameters for the desired event:\n",
    "event = events[eventname]\n",
    "fn_H1 = event['fn_H1']              # File name for H1 data\n",
    "fn_L1 = event['fn_L1']              # File name for L1 data\n",
    "fn_template = event['fn_template']  # File name for template waveform\n",
    "fs = event['fs']                    # Set sampling rate\n",
    "tevent = event['tevent']            # Set approximate event GPS time\n",
    "fband = event['fband']              # frequency band for bandpassing signal\n",
    "print(\"Reading in parameters for event \" + event[\"name\"])\n",
    "print(event)"
   ]
  },
  {
   "cell_type": "markdown",
   "metadata": {
    "user_expressions": []
   },
   "source": [
    "## Read in the data\n",
    "We will make use of the data, and waveform template, defined above."
   ]
  },
  {
   "cell_type": "code",
   "execution_count": 19,
   "metadata": {
    "collapsed": false,
    "jupyter": {
     "outputs_hidden": false
    }
   },
   "outputs": [],
   "source": [
    "#----------------------------------------------------------------\n",
    "# Load LIGO data from a single file.\n",
    "# FIRST, define the filenames fn_H1 and fn_L1, above.\n",
    "#----------------------------------------------------------------\n",
    "try:\n",
    "    # read in data from H1 and L1, if available:\n",
    "    strain_H1, time_H1, chan_dict_H1 = rl.loaddata('data/'+fn_H1, 'H1')\n",
    "    strain_L1, time_L1, chan_dict_L1 = rl.loaddata('data/'+fn_L1, 'L1')\n",
    "except:\n",
    "    print(\"Cannot find data files!\")\n",
    "    print(\"You can download them from https://www.gwosc.org/s/events/\"+eventname)\n",
    "    print(\"Quitting.\")\n",
    "    quit()"
   ]
  },
  {
   "cell_type": "markdown",
   "metadata": {
    "user_expressions": []
   },
   "source": [
    "## Data Gaps\n",
    "**NOTE** that in general, LIGO strain time series data has gaps (filled with NaNs) when the detectors are not taking valid (\"science quality\") data. Analyzing these data requires the user to \n",
    " <a href='https://www.gwosc.org/timeline/'>loop over \"segments\"</a> of valid data stretches. \n",
    "\n",
    "**In this tutorial, for simplicity, we assume there are no data gaps - this will not work for all times!**  See the \n",
    "<a href='https://www.gwosc.org/timeline/'>notes on segments</a> for details.\n"
   ]
  },
  {
   "cell_type": "markdown",
   "metadata": {
    "user_expressions": []
   },
   "source": [
    "## First look at the data from H1 and L1"
   ]
  },
  {
   "cell_type": "code",
   "execution_count": 20,
   "metadata": {
    "collapsed": false,
    "jupyter": {
     "outputs_hidden": false
    }
   },
   "outputs": [
    {
     "ename": "TypeError",
     "evalue": "'NoneType' object is not subscriptable",
     "output_type": "error",
     "traceback": [
      "\u001b[0;31m---------------------------------------------------------------------------\u001b[0m",
      "\u001b[0;31mTypeError\u001b[0m                                 Traceback (most recent call last)",
      "Cell \u001b[0;32mIn[20], line 4\u001b[0m\n\u001b[1;32m      2\u001b[0m time \u001b[38;5;241m=\u001b[39m time_H1\n\u001b[1;32m      3\u001b[0m \u001b[38;5;66;03m# the time sample interval (uniformly sampled!)\u001b[39;00m\n\u001b[0;32m----> 4\u001b[0m dt \u001b[38;5;241m=\u001b[39m \u001b[43mtime\u001b[49m\u001b[43m[\u001b[49m\u001b[38;5;241;43m1\u001b[39;49m\u001b[43m]\u001b[49m \u001b[38;5;241m-\u001b[39m time[\u001b[38;5;241m0\u001b[39m]\n\u001b[1;32m      6\u001b[0m \u001b[38;5;66;03m# Let's look at the data and print out some stuff:\u001b[39;00m\n\u001b[1;32m      8\u001b[0m \u001b[38;5;28mprint\u001b[39m(\u001b[38;5;124m'\u001b[39m\u001b[38;5;124mtime_H1: len, min, mean, max = \u001b[39m\u001b[38;5;124m'\u001b[39m, \\\n\u001b[1;32m      9\u001b[0m     \u001b[38;5;28mlen\u001b[39m(time_H1), time_H1\u001b[38;5;241m.\u001b[39mmin(), time_H1\u001b[38;5;241m.\u001b[39mmean(), time_H1\u001b[38;5;241m.\u001b[39mmax() )\n",
      "\u001b[0;31mTypeError\u001b[0m: 'NoneType' object is not subscriptable"
     ]
    }
   ],
   "source": [
    "# both H1 and L1 will have the same time vector, so:\n",
    "time = time_H1\n",
    "# the time sample interval (uniformly sampled!)\n",
    "dt = time[1] - time[0]\n",
    "\n",
    "# Let's look at the data and print out some stuff:\n",
    "\n",
    "print('time_H1: len, min, mean, max = ', \\\n",
    "    len(time_H1), time_H1.min(), time_H1.mean(), time_H1.max() )\n",
    "print('strain_H1: len, min, mean, max = ', \\\n",
    "    len(strain_H1), strain_H1.min(),strain_H1.mean(),strain_H1.max())\n",
    "print( 'strain_L1: len, min, mean, max = ', \\\n",
    "    len(strain_L1), strain_L1.min(),strain_L1.mean(),strain_L1.max())\n",
    "\n",
    "#What's in chan_dict?  (See also https://www.gwosc.org/tutorials/)\n",
    "bits = chan_dict_H1['DATA']\n",
    "print(\"For H1, {0} out of {1} seconds contain usable DATA\".format(bits.sum(), len(bits)))\n",
    "bits = chan_dict_L1['DATA']\n",
    "print(\"For L1, {0} out of {1} seconds contain usable DATA\".format(bits.sum(), len(bits)))\n",
    " "
   ]
  },
  {
   "cell_type": "code",
   "execution_count": null,
   "metadata": {
    "collapsed": false,
    "jupyter": {
     "outputs_hidden": false
    }
   },
   "outputs": [],
   "source": [
    "# plot +- deltat seconds around the event:\n",
    "# index into the strain time series for this time interval:\n",
    "deltat = 5\n",
    "indxt = np.where((time >= tevent-deltat) & (time < tevent+deltat))\n",
    "print(tevent)\n",
    "\n",
    "if make_plots:\n",
    "    plt.figure()\n",
    "    plt.plot(time[indxt]-tevent,strain_H1[indxt],'r',label='H1 strain')\n",
    "    plt.plot(time[indxt]-tevent,strain_L1[indxt],'g',label='L1 strain')\n",
    "    plt.xlabel('time (s) since '+str(tevent))\n",
    "    plt.ylabel('strain')\n",
    "    plt.legend(loc='lower right')\n",
    "    plt.title('Advanced LIGO strain data near '+eventname)\n",
    "    plt.savefig('figures/'+eventname+'_strain.'+plottype)"
   ]
  },
  {
   "cell_type": "markdown",
   "metadata": {
    "user_expressions": []
   },
   "source": [
    "The data are dominated by **low frequency noise**; there is no way to see a signal here, without some signal processing."
   ]
  },
  {
   "cell_type": "markdown",
   "metadata": {
    "user_expressions": []
   },
   "source": [
    "## Plot the Amplitude Spectral Density (ASD)\n",
    "Plotting these data in the Fourier domain gives us an idea of the frequency content of the data. A way to visualize the frequency content of the data is to plot the amplitude spectral density, ASD.\n",
    "\n",
    "The ASDs are the square root of the power spectral densities (PSDs), which are averages of the square of the fast fourier transforms (FFTs) of the data.\n",
    "\n",
    "They are an estimate of the \"strain-equivalent noise\" of the detectors versus frequency,\n",
    "which limit the ability of the detectors to identify GW signals.\n",
    "\n",
    "They are in units of strain/rt(Hz).\n",
    "So, if you want to know the root-mean-square (rms) strain noise in a frequency band,\n",
    "integrate (sum) the squares of the ASD over that band, then take the square-root.\n",
    "\n",
    "There's a signal in these data! \n",
    "For the moment, let's ignore that, and assume it's all noise."
   ]
  },
  {
   "cell_type": "code",
   "execution_count": 21,
   "metadata": {
    "collapsed": false,
    "jupyter": {
     "outputs_hidden": false
    }
   },
   "outputs": [
    {
     "ename": "TypeError",
     "evalue": "len() of unsized object",
     "output_type": "error",
     "traceback": [
      "\u001b[0;31m---------------------------------------------------------------------------\u001b[0m",
      "\u001b[0;31mTypeError\u001b[0m                                 Traceback (most recent call last)",
      "Cell \u001b[0;32mIn[21], line 5\u001b[0m\n\u001b[1;32m      2\u001b[0m \u001b[38;5;28;01mif\u001b[39;00m make_psds:\n\u001b[1;32m      3\u001b[0m     \u001b[38;5;66;03m# number of sample for the fast fourier transform:\u001b[39;00m\n\u001b[1;32m      4\u001b[0m     NFFT \u001b[38;5;241m=\u001b[39m \u001b[38;5;241m4\u001b[39m\u001b[38;5;241m*\u001b[39mfs\n\u001b[0;32m----> 5\u001b[0m     Pxx_H1, freqs \u001b[38;5;241m=\u001b[39m \u001b[43mmlab\u001b[49m\u001b[38;5;241;43m.\u001b[39;49m\u001b[43mpsd\u001b[49m\u001b[43m(\u001b[49m\u001b[43mstrain_H1\u001b[49m\u001b[43m,\u001b[49m\u001b[43m \u001b[49m\u001b[43mFs\u001b[49m\u001b[43m \u001b[49m\u001b[38;5;241;43m=\u001b[39;49m\u001b[43m \u001b[49m\u001b[43mfs\u001b[49m\u001b[43m,\u001b[49m\u001b[43m \u001b[49m\u001b[43mNFFT\u001b[49m\u001b[43m \u001b[49m\u001b[38;5;241;43m=\u001b[39;49m\u001b[43m \u001b[49m\u001b[43mNFFT\u001b[49m\u001b[43m)\u001b[49m\n\u001b[1;32m      6\u001b[0m     Pxx_L1, freqs \u001b[38;5;241m=\u001b[39m mlab\u001b[38;5;241m.\u001b[39mpsd(strain_L1, Fs \u001b[38;5;241m=\u001b[39m fs, NFFT \u001b[38;5;241m=\u001b[39m NFFT)\n\u001b[1;32m      8\u001b[0m     \u001b[38;5;66;03m# We will use interpolations of the ASDs computed above for whitening:\u001b[39;00m\n",
      "File \u001b[0;32m/srv/conda/envs/notebook/lib/python3.10/site-packages/matplotlib/mlab.py:584\u001b[0m, in \u001b[0;36mpsd\u001b[0;34m(x, NFFT, Fs, detrend, window, noverlap, pad_to, sides, scale_by_freq)\u001b[0m\n\u001b[1;32m    534\u001b[0m \u001b[38;5;129m@_docstring\u001b[39m\u001b[38;5;241m.\u001b[39mdedent_interpd\n\u001b[1;32m    535\u001b[0m \u001b[38;5;28;01mdef\u001b[39;00m \u001b[38;5;21mpsd\u001b[39m(x, NFFT\u001b[38;5;241m=\u001b[39m\u001b[38;5;28;01mNone\u001b[39;00m, Fs\u001b[38;5;241m=\u001b[39m\u001b[38;5;28;01mNone\u001b[39;00m, detrend\u001b[38;5;241m=\u001b[39m\u001b[38;5;28;01mNone\u001b[39;00m, window\u001b[38;5;241m=\u001b[39m\u001b[38;5;28;01mNone\u001b[39;00m,\n\u001b[1;32m    536\u001b[0m         noverlap\u001b[38;5;241m=\u001b[39m\u001b[38;5;28;01mNone\u001b[39;00m, pad_to\u001b[38;5;241m=\u001b[39m\u001b[38;5;28;01mNone\u001b[39;00m, sides\u001b[38;5;241m=\u001b[39m\u001b[38;5;28;01mNone\u001b[39;00m, scale_by_freq\u001b[38;5;241m=\u001b[39m\u001b[38;5;28;01mNone\u001b[39;00m):\n\u001b[1;32m    537\u001b[0m     \u001b[38;5;124mr\u001b[39m\u001b[38;5;124;03m\"\"\"\u001b[39;00m\n\u001b[1;32m    538\u001b[0m \u001b[38;5;124;03m    Compute the power spectral density.\u001b[39;00m\n\u001b[1;32m    539\u001b[0m \n\u001b[0;32m   (...)\u001b[0m\n\u001b[1;32m    582\u001b[0m \u001b[38;5;124;03m    csd : returns the spectral density between two signals.\u001b[39;00m\n\u001b[1;32m    583\u001b[0m \u001b[38;5;124;03m    \"\"\"\u001b[39;00m\n\u001b[0;32m--> 584\u001b[0m     Pxx, freqs \u001b[38;5;241m=\u001b[39m \u001b[43mcsd\u001b[49m\u001b[43m(\u001b[49m\u001b[43mx\u001b[49m\u001b[38;5;241;43m=\u001b[39;49m\u001b[43mx\u001b[49m\u001b[43m,\u001b[49m\u001b[43m \u001b[49m\u001b[43my\u001b[49m\u001b[38;5;241;43m=\u001b[39;49m\u001b[38;5;28;43;01mNone\u001b[39;49;00m\u001b[43m,\u001b[49m\u001b[43m \u001b[49m\u001b[43mNFFT\u001b[49m\u001b[38;5;241;43m=\u001b[39;49m\u001b[43mNFFT\u001b[49m\u001b[43m,\u001b[49m\u001b[43m \u001b[49m\u001b[43mFs\u001b[49m\u001b[38;5;241;43m=\u001b[39;49m\u001b[43mFs\u001b[49m\u001b[43m,\u001b[49m\u001b[43m \u001b[49m\u001b[43mdetrend\u001b[49m\u001b[38;5;241;43m=\u001b[39;49m\u001b[43mdetrend\u001b[49m\u001b[43m,\u001b[49m\n\u001b[1;32m    585\u001b[0m \u001b[43m                     \u001b[49m\u001b[43mwindow\u001b[49m\u001b[38;5;241;43m=\u001b[39;49m\u001b[43mwindow\u001b[49m\u001b[43m,\u001b[49m\u001b[43m \u001b[49m\u001b[43mnoverlap\u001b[49m\u001b[38;5;241;43m=\u001b[39;49m\u001b[43mnoverlap\u001b[49m\u001b[43m,\u001b[49m\u001b[43m \u001b[49m\u001b[43mpad_to\u001b[49m\u001b[38;5;241;43m=\u001b[39;49m\u001b[43mpad_to\u001b[49m\u001b[43m,\u001b[49m\n\u001b[1;32m    586\u001b[0m \u001b[43m                     \u001b[49m\u001b[43msides\u001b[49m\u001b[38;5;241;43m=\u001b[39;49m\u001b[43msides\u001b[49m\u001b[43m,\u001b[49m\u001b[43m \u001b[49m\u001b[43mscale_by_freq\u001b[49m\u001b[38;5;241;43m=\u001b[39;49m\u001b[43mscale_by_freq\u001b[49m\u001b[43m)\u001b[49m\n\u001b[1;32m    587\u001b[0m     \u001b[38;5;28;01mreturn\u001b[39;00m Pxx\u001b[38;5;241m.\u001b[39mreal, freqs\n",
      "File \u001b[0;32m/srv/conda/envs/notebook/lib/python3.10/site-packages/matplotlib/mlab.py:640\u001b[0m, in \u001b[0;36mcsd\u001b[0;34m(x, y, NFFT, Fs, detrend, window, noverlap, pad_to, sides, scale_by_freq)\u001b[0m\n\u001b[1;32m    638\u001b[0m \u001b[38;5;28;01mif\u001b[39;00m NFFT \u001b[38;5;129;01mis\u001b[39;00m \u001b[38;5;28;01mNone\u001b[39;00m:\n\u001b[1;32m    639\u001b[0m     NFFT \u001b[38;5;241m=\u001b[39m \u001b[38;5;241m256\u001b[39m\n\u001b[0;32m--> 640\u001b[0m Pxy, freqs, _ \u001b[38;5;241m=\u001b[39m \u001b[43m_spectral_helper\u001b[49m\u001b[43m(\u001b[49m\u001b[43mx\u001b[49m\u001b[38;5;241;43m=\u001b[39;49m\u001b[43mx\u001b[49m\u001b[43m,\u001b[49m\u001b[43m \u001b[49m\u001b[43my\u001b[49m\u001b[38;5;241;43m=\u001b[39;49m\u001b[43my\u001b[49m\u001b[43m,\u001b[49m\u001b[43m \u001b[49m\u001b[43mNFFT\u001b[49m\u001b[38;5;241;43m=\u001b[39;49m\u001b[43mNFFT\u001b[49m\u001b[43m,\u001b[49m\u001b[43m \u001b[49m\u001b[43mFs\u001b[49m\u001b[38;5;241;43m=\u001b[39;49m\u001b[43mFs\u001b[49m\u001b[43m,\u001b[49m\n\u001b[1;32m    641\u001b[0m \u001b[43m                                 \u001b[49m\u001b[43mdetrend_func\u001b[49m\u001b[38;5;241;43m=\u001b[39;49m\u001b[43mdetrend\u001b[49m\u001b[43m,\u001b[49m\u001b[43m \u001b[49m\u001b[43mwindow\u001b[49m\u001b[38;5;241;43m=\u001b[39;49m\u001b[43mwindow\u001b[49m\u001b[43m,\u001b[49m\n\u001b[1;32m    642\u001b[0m \u001b[43m                                 \u001b[49m\u001b[43mnoverlap\u001b[49m\u001b[38;5;241;43m=\u001b[39;49m\u001b[43mnoverlap\u001b[49m\u001b[43m,\u001b[49m\u001b[43m \u001b[49m\u001b[43mpad_to\u001b[49m\u001b[38;5;241;43m=\u001b[39;49m\u001b[43mpad_to\u001b[49m\u001b[43m,\u001b[49m\n\u001b[1;32m    643\u001b[0m \u001b[43m                                 \u001b[49m\u001b[43msides\u001b[49m\u001b[38;5;241;43m=\u001b[39;49m\u001b[43msides\u001b[49m\u001b[43m,\u001b[49m\u001b[43m \u001b[49m\u001b[43mscale_by_freq\u001b[49m\u001b[38;5;241;43m=\u001b[39;49m\u001b[43mscale_by_freq\u001b[49m\u001b[43m,\u001b[49m\n\u001b[1;32m    644\u001b[0m \u001b[43m                                 \u001b[49m\u001b[43mmode\u001b[49m\u001b[38;5;241;43m=\u001b[39;49m\u001b[38;5;124;43m'\u001b[39;49m\u001b[38;5;124;43mpsd\u001b[39;49m\u001b[38;5;124;43m'\u001b[39;49m\u001b[43m)\u001b[49m\n\u001b[1;32m    646\u001b[0m \u001b[38;5;28;01mif\u001b[39;00m Pxy\u001b[38;5;241m.\u001b[39mndim \u001b[38;5;241m==\u001b[39m \u001b[38;5;241m2\u001b[39m:\n\u001b[1;32m    647\u001b[0m     \u001b[38;5;28;01mif\u001b[39;00m Pxy\u001b[38;5;241m.\u001b[39mshape[\u001b[38;5;241m1\u001b[39m] \u001b[38;5;241m>\u001b[39m \u001b[38;5;241m1\u001b[39m:\n",
      "File \u001b[0;32m/srv/conda/envs/notebook/lib/python3.10/site-packages/matplotlib/mlab.py:343\u001b[0m, in \u001b[0;36m_spectral_helper\u001b[0;34m(x, y, NFFT, Fs, detrend_func, window, noverlap, pad_to, sides, scale_by_freq, mode)\u001b[0m\n\u001b[1;32m    340\u001b[0m _api\u001b[38;5;241m.\u001b[39mcheck_in_list([\u001b[38;5;124m'\u001b[39m\u001b[38;5;124mdefault\u001b[39m\u001b[38;5;124m'\u001b[39m, \u001b[38;5;124m'\u001b[39m\u001b[38;5;124monesided\u001b[39m\u001b[38;5;124m'\u001b[39m, \u001b[38;5;124m'\u001b[39m\u001b[38;5;124mtwosided\u001b[39m\u001b[38;5;124m'\u001b[39m], sides\u001b[38;5;241m=\u001b[39msides)\n\u001b[1;32m    342\u001b[0m \u001b[38;5;66;03m# zero pad x and y up to NFFT if they are shorter than NFFT\u001b[39;00m\n\u001b[0;32m--> 343\u001b[0m \u001b[38;5;28;01mif\u001b[39;00m \u001b[38;5;28;43mlen\u001b[39;49m\u001b[43m(\u001b[49m\u001b[43mx\u001b[49m\u001b[43m)\u001b[49m \u001b[38;5;241m<\u001b[39m NFFT:\n\u001b[1;32m    344\u001b[0m     n \u001b[38;5;241m=\u001b[39m \u001b[38;5;28mlen\u001b[39m(x)\n\u001b[1;32m    345\u001b[0m     x \u001b[38;5;241m=\u001b[39m np\u001b[38;5;241m.\u001b[39mresize(x, NFFT)\n",
      "\u001b[0;31mTypeError\u001b[0m: len() of unsized object"
     ]
    }
   ],
   "source": [
    "make_psds = 1\n",
    "if make_psds:\n",
    "    # number of sample for the fast fourier transform:\n",
    "    NFFT = 4*fs\n",
    "    Pxx_H1, freqs = mlab.psd(strain_H1, Fs = fs, NFFT = NFFT)\n",
    "    Pxx_L1, freqs = mlab.psd(strain_L1, Fs = fs, NFFT = NFFT)\n",
    "\n",
    "    # We will use interpolations of the ASDs computed above for whitening:\n",
    "    psd_H1 = interp1d(freqs, Pxx_H1)\n",
    "    psd_L1 = interp1d(freqs, Pxx_L1)\n",
    "\n",
    "    # Here is an approximate, smoothed PSD for H1 during O1, with no lines. We'll use it later.    \n",
    "    Pxx = (1.e-22*(18./(0.1+freqs))**2)**2+0.7e-23**2+((freqs/2000.)*4.e-23)**2\n",
    "    psd_smooth = interp1d(freqs, Pxx)\n",
    "\n",
    "if make_plots:\n",
    "    # plot the ASDs, with the template overlaid:\n",
    "    f_min = 20.\n",
    "    f_max = 2000. \n",
    "    plt.figure(figsize=(10,8))\n",
    "    plt.loglog(freqs, np.sqrt(Pxx_L1),'g',label='L1 strain')\n",
    "    plt.loglog(freqs, np.sqrt(Pxx_H1),'r',label='H1 strain')\n",
    "    plt.loglog(freqs, np.sqrt(Pxx),'k',label='H1 strain, O1 smooth model')\n",
    "    plt.axis([f_min, f_max, 1e-24, 1e-19])\n",
    "    plt.grid('on')\n",
    "    plt.ylabel('ASD (strain/rtHz)')\n",
    "    plt.xlabel('Freq (Hz)')\n",
    "    plt.legend(loc='upper center')\n",
    "    plt.title('Advanced LIGO strain data near '+eventname)\n",
    "    plt.savefig('figures/'+eventname+'_ASDs.'+plottype)"
   ]
  },
  {
   "cell_type": "markdown",
   "metadata": {
    "user_expressions": []
   },
   "source": [
    "NOTE that we only plot the data between f_min = 20 Hz and f_max = 2000 Hz.\n",
    "\n",
    "Below f_min, the data **are not properly calibrated**. That's OK, because the noise is so high below f_min that LIGO cannot sense gravitational wave strain from astrophysical sources in that band.\n",
    "\n",
    "The sample rate is fs = 4096 Hz (2^12 Hz), so the data cannot capture frequency content above the Nyquist frequency = fs/2 = 2048 Hz. That's OK, because our events only have detectable frequency content in the range given by fband, defined above; the upper end will (almost) always be below the Nyquist frequency. We set f_max = 2000, a bit below Nyquist.\n",
    "\n",
    "You can see strong spectral lines in the data; they are all of instrumental origin. Some are engineered into the detectors (mirror suspension resonances at ~500 Hz and harmonics, calibration lines, control dither lines, etc) and some (60 Hz and harmonics) are unwanted. We'll return to these, later.\n",
    "\n",
    "You can't see the signal in this plot, since it is relatively weak and less than a second long, while this plot averages over 32 seconds of data. So this plot is entirely dominated by instrumental noise.\n",
    "\n",
    "The smooth model is hard-coded and tuned by eye; it won't be right for arbitrary times. We will only use it below for things that don't require much accuracy."
   ]
  },
  {
   "cell_type": "markdown",
   "metadata": {
    "user_expressions": []
   },
   "source": [
    "## Binary Neutron Star (BNS) detection range\n",
    "\n",
    "A standard metric that LIGO uses to evaluate the sensitivity of our detectors, based on the detector noise ASD, is the BNS range.\n",
    "\n",
    "This is defined as the distance to which a LIGO detector can register a BNS signal with a single detector signal-to-noise ratio (SNR) of 8, averaged over source direction and orientation.  Here, SNR 8 is used as a nominal detection threshold, similar to typical CBC detection thresholds of SNR 6-8.\n",
    "\n",
    "We take each neutron star in the BNS system to have a mass of 1.4 times the mass of the sun, and negligible spin.\n",
    "\n",
    "GWs from BNS mergers are like \"standard sirens\"; we know their amplitude at the source from theoretical calculations. The amplitude falls off like 1/r, so their amplitude at the detectors on Earth tells us how far away they are. This is great, because it is hard, in general, to know the distance to astronomical sources.\n",
    "\n",
    "The amplitude at the source is computed in the post-Newtonian \"quadrupole approximation\". This is valid for the inspiral phase only, and is approximate at best; there is no simple expression for the post-inspiral (merger and ringdown) phase. So this won't work for high-mass binary black holes like GW150914, which have a lot of signal strength in the post-inspiral phase.\n",
    "\n",
    "But, in order to use them as standard sirens, we need to know the source direction and orientation relative to the detector and its \"quadrupole antenna pattern\" response to such signals. It is a standard (if non-trivial) computation to average over all source directions and orientations; the average amplitude is 1./2.2648 times the maximum value. \n",
    "\n",
    "This calculation is described in Appendix D of:\n",
    "FINDCHIRP: An algorithm for detection of gravitational waves from inspiraling compact binaries\n",
    "B. Allen et al., PHYSICAL REVIEW D 85, 122006 (2012) ; http://arxiv.org/abs/gr-qc/0509116\n"
   ]
  },
  {
   "cell_type": "code",
   "execution_count": null,
   "metadata": {
    "collapsed": false,
    "jupyter": {
     "outputs_hidden": false
    }
   },
   "outputs": [],
   "source": [
    "BNS_range = 1\n",
    "if BNS_range:\n",
    "    #-- compute the binary neutron star (BNS) detectability range\n",
    "\n",
    "    #-- choose a detector noise power spectrum:\n",
    "    f = freqs.copy()\n",
    "    # get frequency step size\n",
    "    df = f[2]-f[1]\n",
    "\n",
    "    #-- constants\n",
    "    # speed of light:\n",
    "    clight = 2.99792458e8                # m/s\n",
    "    # Newton's gravitational constant\n",
    "    G = 6.67259e-11                      # m^3/kg/s^2 \n",
    "    # one parsec, popular unit of astronomical distance (around 3.26 light years)\n",
    "    parsec = 3.08568025e16               # m\n",
    "    # solar mass\n",
    "    MSol = 1.989e30                      # kg\n",
    "    # solar mass in seconds (isn't relativity fun?):\n",
    "    tSol = MSol*G/np.power(clight,3)     # s\n",
    "    # Single-detector SNR for detection above noise background: \n",
    "    SNRdet = 8.\n",
    "    # conversion from maximum range (horizon) to average range:\n",
    "    Favg = 2.2648\n",
    "    # mass of a typical neutron star, in solar masses:\n",
    "    mNS = 1.4\n",
    "\n",
    "    # Masses in solar masses\n",
    "    m1 = m2 = mNS    \n",
    "    mtot = m1+m2  # the total mass\n",
    "    eta = (m1*m2)/mtot**2  # the symmetric mass ratio\n",
    "    mchirp = mtot*eta**(3./5.)  # the chirp mass (FINDCHIRP, following Eqn 3.1b)\n",
    "\n",
    "    # distance to a fiducial BNS source:\n",
    "    dist = 1.0                           # in Mpc\n",
    "    Dist =  dist * 1.0e6 * parsec /clight # from Mpc to seconds\n",
    "\n",
    "    # We integrate the signal up to the frequency of the \"Innermost stable circular orbit (ISCO)\" \n",
    "    R_isco = 6.      # Orbital separation at ISCO, in geometric units. 6M for PN ISCO; 2.8M for EOB \n",
    "    # frequency at ISCO (end the chirp here; the merger and ringdown follow) \n",
    "    f_isco = 1./(np.power(R_isco,1.5)*np.pi*tSol*mtot)\n",
    "    # minimum frequency (below which, detector noise is too high to register any signal):\n",
    "    f_min = 20. # Hz\n",
    "    # select the range of frequencies between f_min and fisco\n",
    "    fr = np.nonzero(np.logical_and(f > f_min , f < f_isco))\n",
    "    # get the frequency and spectrum in that range:\n",
    "    ffr = f[fr]\n",
    "\n",
    "    # In stationary phase approx, this is htilde(f):  \n",
    "    # See FINDCHIRP Eqns 3.4, or 8.4-8.5 \n",
    "    htilde = (2.*tSol/Dist)*np.power(mchirp,5./6.)*np.sqrt(5./96./np.pi)*(np.pi*tSol)\n",
    "    htilde *= np.power(np.pi*tSol*ffr,-7./6.)\n",
    "    htilda2 = htilde**2\n",
    "\n",
    "    # loop over the detectors\n",
    "    dets = ['H1', 'L1']\n",
    "    for det in dets:\n",
    "        if det == 'L1': sspec = Pxx_L1.copy()\n",
    "        else:           sspec = Pxx_H1.copy()\n",
    "        sspecfr = sspec[fr]\n",
    "        # compute \"inspiral horizon distance\" for optimally oriented binary; FINDCHIRP Eqn D2:\n",
    "        D_BNS = np.sqrt(4.*np.sum(htilda2/sspecfr)*df)/SNRdet\n",
    "        # and the \"inspiral range\", averaged over source direction and orientation:\n",
    "        R_BNS = D_BNS/Favg\n",
    "        print(det+' BNS inspiral horizon = {0:.1f} Mpc, BNS inspiral range   = {1:.1f} Mpc'.format(D_BNS,R_BNS))"
   ]
  },
  {
   "cell_type": "markdown",
   "metadata": {
    "user_expressions": []
   },
   "source": [
    "## BBH range is >> BNS range!\n",
    "\n",
    "NOTE that, since mass is the source of gravity and thus also of gravitational waves, systems with higher masses (such as the binary black hole merger GW150914) are much \"louder\" and can be detected to much higher distances than the BNS range. We'll compute the BBH range, using a template with specific masses, below."
   ]
  },
  {
   "cell_type": "markdown",
   "metadata": {
    "user_expressions": []
   },
   "source": [
    "## Whitening\n",
    "\n",
    "From the ASD above, we can see that the data are very strongly \"colored\" - noise fluctuations are much larger at low and high frequencies and near spectral lines, reaching a roughly flat (\"white\") minimum in the band around 80 to 300 Hz.\n",
    "\n",
    "We can \"whiten\" the data (dividing it by the noise amplitude spectrum, in the fourier domain), suppressing the extra noise at low frequencies and at the spectral lines, to better see the weak signals in the most sensitive band.\n",
    "\n",
    "Whitening is always one of the first steps in astrophysical data analysis (searches, parameter estimation).\n",
    "Whitening requires no prior knowledge of spectral lines, etc; only the data are needed.\n",
    "\n",
    "To get rid of remaining high frequency noise, we will also bandpass the data.\n",
    "\n",
    "The resulting time series is no longer in units of strain; now in units of \"sigmas\" away from the mean.\n",
    "\n",
    "We will plot the whitened strain data, along with the signal template, after the matched filtering section, below."
   ]
  },
  {
   "cell_type": "code",
   "execution_count": null,
   "metadata": {
    "collapsed": false,
    "jupyter": {
     "outputs_hidden": false
    }
   },
   "outputs": [],
   "source": [
    "whiten_data = 1\n",
    "if whiten_data:\n",
    "    # now whiten the data from H1 and L1, and the template (use H1 PSD):\n",
    "    strain_H1_whiten = whiten(strain_H1,psd_H1,dt)\n",
    "    strain_L1_whiten = whiten(strain_L1,psd_L1,dt)\n",
    "    \n",
    "    # We need to suppress the high frequency noise (no signal!) with some bandpassing:\n",
    "    bb, ab = butter(4, [fband[0]*2./fs, fband[1]*2./fs], btype='band')\n",
    "    normalization = np.sqrt((fband[1]-fband[0])/(fs/2))\n",
    "    strain_H1_whitenbp = filtfilt(bb, ab, strain_H1_whiten) / normalization\n",
    "    strain_L1_whitenbp = filtfilt(bb, ab, strain_L1_whiten) / normalization"
   ]
  },
  {
   "cell_type": "markdown",
   "metadata": {
    "user_expressions": []
   },
   "source": [
    "## Spectrograms\n",
    "\n",
    "Now let's plot a short time-frequency spectrogram around our event:"
   ]
  },
  {
   "cell_type": "code",
   "execution_count": null,
   "metadata": {
    "collapsed": false,
    "jupyter": {
     "outputs_hidden": false
    }
   },
   "outputs": [],
   "source": [
    "if make_plots:\n",
    "    # index into the strain time series for this time interval:\n",
    "    indxt = np.where((time >= tevent-deltat) & (time < tevent+deltat))\n",
    "\n",
    "    # pick a shorter FTT time interval, like 1/8 of a second:\n",
    "    NFFT = int(fs/8)\n",
    "    # and with a lot of overlap, to resolve short-time features:\n",
    "    NOVL = int(NFFT*15./16)\n",
    "    # and choose a window that minimizes \"spectral leakage\" \n",
    "    # (https://en.wikipedia.org/wiki/Spectral_leakage)\n",
    "    window = np.blackman(NFFT)\n",
    "\n",
    "    # the right colormap is all-important! See:\n",
    "    # http://matplotlib.org/examples/color/colormaps_reference.html\n",
    "    # viridis seems to be the best for our purposes, but it's new; if you don't have it, you can settle for ocean.\n",
    "    #spec_cmap='viridis'\n",
    "    spec_cmap='ocean'\n",
    "\n",
    "    # Plot the H1 spectrogram:\n",
    "    plt.figure(figsize=(10,6))\n",
    "    spec_H1, freqs, bins, im = plt.specgram(strain_H1[indxt], NFFT=NFFT, Fs=fs, window=window, \n",
    "                                            noverlap=NOVL, cmap=spec_cmap, xextent=[-deltat,deltat])\n",
    "    plt.xlabel('time (s) since '+str(tevent))\n",
    "    plt.ylabel('Frequency (Hz)')\n",
    "    plt.colorbar()\n",
    "    plt.axis([-deltat, deltat, 0, 2000])\n",
    "    plt.title('aLIGO H1 strain data near '+eventname)\n",
    "    plt.savefig('figures/'+eventname+'_H1_spectrogram.'+plottype)\n",
    "\n",
    "    # Plot the L1 spectrogram:\n",
    "    plt.figure(figsize=(10,6))\n",
    "    spec_H1, freqs, bins, im = plt.specgram(strain_L1[indxt], NFFT=NFFT, Fs=fs, window=window, \n",
    "                                            noverlap=NOVL, cmap=spec_cmap, xextent=[-deltat,deltat])\n",
    "    plt.xlabel('time (s) since '+str(tevent))\n",
    "    plt.ylabel('Frequency (Hz)')\n",
    "    plt.colorbar()\n",
    "    plt.axis([-deltat, deltat, 0, 2000])\n",
    "    plt.title('aLIGO L1 strain data near '+eventname)\n",
    "    plt.savefig('figures/'+eventname+'_L1_spectrogram.'+plottype)\n"
   ]
  },
  {
   "cell_type": "markdown",
   "metadata": {
    "user_expressions": []
   },
   "source": [
    "In the above spectrograms, you may see lots of excess power below ~20 Hz, as well as strong spectral lines at 500, 1000, 1500 Hz (also evident in the ASDs above). The lines at multiples of 500 Hz are the harmonics of the \"violin modes\" of the fibers holding up the mirrors of the Advanced LIGO interferometers.\n",
    "\n",
    "Now let's zoom in on where we think the signal is, using the whitened data, in the hope of seeing a chirp:"
   ]
  },
  {
   "cell_type": "code",
   "execution_count": null,
   "metadata": {
    "collapsed": false,
    "jupyter": {
     "outputs_hidden": false
    }
   },
   "outputs": [],
   "source": [
    "if make_plots:\n",
    "    #  plot the whitened data, zooming in on the signal region:\n",
    "\n",
    "    # pick a shorter FTT time interval, like 1/16 of a second:\n",
    "    NFFT = int(fs/16.0)\n",
    "    # and with a lot of overlap, to resolve short-time features:\n",
    "    NOVL = int(NFFT*15/16.0)\n",
    "    # choose a window that minimizes \"spectral leakage\" \n",
    "    # (https://en.wikipedia.org/wiki/Spectral_leakage)\n",
    "    window = np.blackman(NFFT)\n",
    "\n",
    "    # Plot the H1 whitened spectrogram around the signal\n",
    "    plt.figure(figsize=(10,6))\n",
    "    spec_H1, freqs, bins, im = plt.specgram(strain_H1_whiten[indxt], NFFT=NFFT, Fs=fs, window=window, \n",
    "                                            noverlap=NOVL, cmap=spec_cmap, xextent=[-deltat,deltat])\n",
    "    plt.xlabel('time (s) since '+str(tevent))\n",
    "    plt.ylabel('Frequency (Hz)')\n",
    "    plt.colorbar()\n",
    "    plt.axis([-0.5, 0.5, 0, 500])\n",
    "    plt.title('aLIGO H1 strain data near '+eventname)\n",
    "    plt.savefig('figures/'+eventname+'_H1_spectrogram_whitened.'+plottype)\n",
    "\n",
    "    # Plot the L1 whitened spectrogram around the signal\n",
    "    plt.figure(figsize=(10,6))\n",
    "    spec_H1, freqs, bins, im = plt.specgram(strain_L1_whiten[indxt], NFFT=NFFT, Fs=fs, window=window, \n",
    "                                            noverlap=NOVL, cmap=spec_cmap, xextent=[-deltat,deltat])\n",
    "    plt.xlabel('time (s) since '+str(tevent))\n",
    "    plt.ylabel('Frequency (Hz)')\n",
    "    plt.colorbar()\n",
    "    plt.axis([-0.5, 0.5, 0, 500])\n",
    "    plt.title('aLIGO L1 strain data near '+eventname)\n",
    "    plt.savefig('figures/'+eventname+'_L1_spectrogram_whitened.'+plottype)\n"
   ]
  },
  {
   "cell_type": "markdown",
   "metadata": {
    "user_expressions": []
   },
   "source": [
    "Loud (high SNR) signals may be visible in these spectrograms.  Compact object mergers show a characteristic \"chirp\" as the signal rises in frequency.  If you can't see anything, try\n",
    "<a href='https://www.gwosc.org/events/GW150914/'>event GW150914</a>, by changing the `eventname` variable in the first cell above."
   ]
  },
  {
   "cell_type": "markdown",
   "metadata": {
    "user_expressions": []
   },
   "source": [
    "## Waveform Template\n",
    "\n",
    "The results of a full LIGO-Virgo analysis of this BBH event include a set of parameters that are consistent with a range of parameterized waveform templates. Here we pick one for use in matched filtering. \n",
    "\n",
    "As noted above, the results won't be identical to what is in the LIGO-Virgo papers, since we're skipping many subtleties, such as combining many consistent templates."
   ]
  },
  {
   "cell_type": "code",
   "execution_count": null,
   "metadata": {
    "collapsed": false,
    "jupyter": {
     "outputs_hidden": false
    }
   },
   "outputs": [],
   "source": [
    "# read in the template (plus and cross) and parameters for the theoretical waveform\n",
    "try:\n",
    "    f_template = h5py.File('data/'+fn_template, \"r\")\n",
    "except:\n",
    "    print(\"Cannot find template file!\")\n",
    "    print(\"You can download it from https://www.gwosc.org/s/events/\"+eventname+'/'+fn_template)\n",
    "    print(\"Quitting.\")\n",
    "    quit()"
   ]
  },
  {
   "cell_type": "code",
   "execution_count": 22,
   "metadata": {
    "collapsed": false,
    "jupyter": {
     "outputs_hidden": false
    }
   },
   "outputs": [
    {
     "ename": "ValueError",
     "evalue": "Invalid location identifier (invalid location identifier)",
     "output_type": "error",
     "traceback": [
      "\u001b[0;31m---------------------------------------------------------------------------\u001b[0m",
      "\u001b[0;31mValueError\u001b[0m                                Traceback (most recent call last)",
      "Cell \u001b[0;32mIn[22], line 2\u001b[0m\n\u001b[1;32m      1\u001b[0m \u001b[38;5;66;03m# extract metadata from the template file:\u001b[39;00m\n\u001b[0;32m----> 2\u001b[0m template_p, template_c \u001b[38;5;241m=\u001b[39m \u001b[43mf_template\u001b[49m\u001b[43m[\u001b[49m\u001b[38;5;124;43m\"\u001b[39;49m\u001b[38;5;124;43mtemplate\u001b[39;49m\u001b[38;5;124;43m\"\u001b[39;49m\u001b[43m]\u001b[49m[\u001b[38;5;241m.\u001b[39m\u001b[38;5;241m.\u001b[39m\u001b[38;5;241m.\u001b[39m]\n\u001b[1;32m      3\u001b[0m t_m1 \u001b[38;5;241m=\u001b[39m f_template[\u001b[38;5;124m\"\u001b[39m\u001b[38;5;124m/meta\u001b[39m\u001b[38;5;124m\"\u001b[39m]\u001b[38;5;241m.\u001b[39mattrs[\u001b[38;5;124m'\u001b[39m\u001b[38;5;124mm1\u001b[39m\u001b[38;5;124m'\u001b[39m]\n\u001b[1;32m      4\u001b[0m t_m2 \u001b[38;5;241m=\u001b[39m f_template[\u001b[38;5;124m\"\u001b[39m\u001b[38;5;124m/meta\u001b[39m\u001b[38;5;124m\"\u001b[39m]\u001b[38;5;241m.\u001b[39mattrs[\u001b[38;5;124m'\u001b[39m\u001b[38;5;124mm2\u001b[39m\u001b[38;5;124m'\u001b[39m]\n",
      "File \u001b[0;32mh5py/_objects.pyx:54\u001b[0m, in \u001b[0;36mh5py._objects.with_phil.wrapper\u001b[0;34m()\u001b[0m\n",
      "File \u001b[0;32mh5py/_objects.pyx:55\u001b[0m, in \u001b[0;36mh5py._objects.with_phil.wrapper\u001b[0;34m()\u001b[0m\n",
      "File \u001b[0;32m/srv/conda/envs/notebook/lib/python3.10/site-packages/h5py/_hl/group.py:328\u001b[0m, in \u001b[0;36mGroup.__getitem__\u001b[0;34m(self, name)\u001b[0m\n\u001b[1;32m    326\u001b[0m         \u001b[38;5;28;01mraise\u001b[39;00m \u001b[38;5;167;01mValueError\u001b[39;00m(\u001b[38;5;124m\"\u001b[39m\u001b[38;5;124mInvalid HDF5 object reference\u001b[39m\u001b[38;5;124m\"\u001b[39m)\n\u001b[1;32m    327\u001b[0m \u001b[38;5;28;01melif\u001b[39;00m \u001b[38;5;28misinstance\u001b[39m(name, (\u001b[38;5;28mbytes\u001b[39m, \u001b[38;5;28mstr\u001b[39m)):\n\u001b[0;32m--> 328\u001b[0m     oid \u001b[38;5;241m=\u001b[39m \u001b[43mh5o\u001b[49m\u001b[38;5;241;43m.\u001b[39;49m\u001b[43mopen\u001b[49m\u001b[43m(\u001b[49m\u001b[38;5;28;43mself\u001b[39;49m\u001b[38;5;241;43m.\u001b[39;49m\u001b[43mid\u001b[49m\u001b[43m,\u001b[49m\u001b[43m \u001b[49m\u001b[38;5;28;43mself\u001b[39;49m\u001b[38;5;241;43m.\u001b[39;49m\u001b[43m_e\u001b[49m\u001b[43m(\u001b[49m\u001b[43mname\u001b[49m\u001b[43m)\u001b[49m\u001b[43m,\u001b[49m\u001b[43m \u001b[49m\u001b[43mlapl\u001b[49m\u001b[38;5;241;43m=\u001b[39;49m\u001b[38;5;28;43mself\u001b[39;49m\u001b[38;5;241;43m.\u001b[39;49m\u001b[43m_lapl\u001b[49m\u001b[43m)\u001b[49m\n\u001b[1;32m    329\u001b[0m \u001b[38;5;28;01melse\u001b[39;00m:\n\u001b[1;32m    330\u001b[0m     \u001b[38;5;28;01mraise\u001b[39;00m \u001b[38;5;167;01mTypeError\u001b[39;00m(\u001b[38;5;124m\"\u001b[39m\u001b[38;5;124mAccessing a group is done with bytes or str, \u001b[39m\u001b[38;5;124m\"\u001b[39m\n\u001b[1;32m    331\u001b[0m                     \u001b[38;5;124m\"\u001b[39m\u001b[38;5;124m not \u001b[39m\u001b[38;5;132;01m{}\u001b[39;00m\u001b[38;5;124m\"\u001b[39m\u001b[38;5;241m.\u001b[39mformat(\u001b[38;5;28mtype\u001b[39m(name)))\n",
      "File \u001b[0;32mh5py/_objects.pyx:54\u001b[0m, in \u001b[0;36mh5py._objects.with_phil.wrapper\u001b[0;34m()\u001b[0m\n",
      "File \u001b[0;32mh5py/_objects.pyx:55\u001b[0m, in \u001b[0;36mh5py._objects.with_phil.wrapper\u001b[0;34m()\u001b[0m\n",
      "File \u001b[0;32mh5py/h5o.pyx:190\u001b[0m, in \u001b[0;36mh5py.h5o.open\u001b[0;34m()\u001b[0m\n",
      "\u001b[0;31mValueError\u001b[0m: Invalid location identifier (invalid location identifier)"
     ]
    }
   ],
   "source": [
    "# extract metadata from the template file:\n",
    "template_p, template_c = f_template[\"template\"][...]\n",
    "t_m1 = f_template[\"/meta\"].attrs['m1']\n",
    "t_m2 = f_template[\"/meta\"].attrs['m2']\n",
    "t_a1 = f_template[\"/meta\"].attrs['a1']\n",
    "t_a2 = f_template[\"/meta\"].attrs['a2']\n",
    "t_approx = f_template[\"/meta\"].attrs['approx']\n",
    "f_template.close()\n",
    "# the template extends to roughly 16s, zero-padded to the 32s data length. The merger will be roughly 16s in.\n",
    "template_offset = 16.\n",
    "\n",
    "# whiten the templates:\n",
    "template_p_whiten = whiten(template_p,psd_H1,dt)\n",
    "template_c_whiten = whiten(template_c,psd_H1,dt)\n",
    "template_p_whitenbp = filtfilt(bb, ab, template_p_whiten) / normalization\n",
    "template_c_whitenbp = filtfilt(bb, ab, template_c_whiten) / normalization\n",
    "\n",
    "# Compute, print and plot some properties of the template:\n",
    "\n",
    "# constants:\n",
    "clight = 2.99792458e8                # m/s\n",
    "G = 6.67259e-11                      # m^3/kg/s^2 \n",
    "MSol = 1.989e30                      # kg\n",
    "\n",
    "# template parameters: masses in units of MSol:\n",
    "t_mtot = t_m1+t_m2\n",
    "# final BH mass is typically 95% of the total initial mass:\n",
    "t_mfin = t_mtot*0.95\n",
    "# Final BH radius, in km:\n",
    "R_fin = 2*G*t_mfin*MSol/clight**2/1000.\n",
    "\n",
    "# complex template:\n",
    "template = (template_p + template_c*1.j) \n",
    "ttime = time-time[0]-template_offset\n",
    "\n",
    "# compute the instantaneous frequency of this chirp-like signal:\n",
    "tphase = np.unwrap(np.angle(template))\n",
    "fGW = np.gradient(tphase)*fs/(2.*np.pi)\n",
    "# fix discontinuities at the very end:\n",
    "# iffix = np.where(np.abs(np.gradient(fGW)) > 100.)[0]\n",
    "iffix = np.where(np.abs(template) < np.abs(template).max()*0.001)[0]\n",
    "fGW[iffix] = fGW[iffix[0]-1]\n",
    "fGW[np.where(fGW < 1.)] = fGW[iffix[0]-1]\n",
    "\n",
    "# compute v/c:\n",
    "voverc = (G*t_mtot*MSol*np.pi*fGW/clight**3)**(1./3.)\n",
    "\n",
    "# index where f_GW is in-band:\n",
    "f_inband = fband[0]\n",
    "iband = np.where(fGW > f_inband)[0][0]\n",
    "# index at the peak of the waveform:\n",
    "ipeak = np.argmax(np.abs(template))\n",
    "\n",
    "# number of cycles between inband and peak:\n",
    "Ncycles = (tphase[ipeak]-tphase[iband])/(2.*np.pi)\n",
    "\n",
    "print('Properties of waveform template in {0}'.format(fn_template))\n",
    "print(\"Waveform family = {0}\".format(t_approx))\n",
    "print(\"Masses = {0:.2f}, {1:.2f} Msun\".format(t_m1,t_m2))\n",
    "print('Mtot = {0:.2f} Msun, mfinal = {1:.2f} Msun '.format(t_mtot,t_mfin))\n",
    "print(\"Spins = {0:.2f}, {1:.2f}\".format(t_a1,t_a2))\n",
    "print('Freq at inband, peak = {0:.2f}, {1:.2f} Hz'.format(fGW[iband],fGW[ipeak]))\n",
    "print('Time at inband, peak = {0:.2f}, {1:.2f} s'.format(ttime[iband],ttime[ipeak]))\n",
    "print('Duration (s) inband-peak = {0:.2f} s'.format(ttime[ipeak]-ttime[iband]))\n",
    "print('N_cycles inband-peak = {0:.0f}'.format(Ncycles))\n",
    "print('v/c at peak = {0:.2f}'.format(voverc[ipeak]))\n",
    "print('Radius of final BH = {0:.0f} km'.format(R_fin))\n",
    "\n",
    "if make_plots:\n",
    "    plt.figure(figsize=(10,16))\n",
    "    plt.subplot(4,1,1)\n",
    "    plt.plot(ttime,template_p)\n",
    "    plt.xlim([-template_offset,1.])\n",
    "    plt.grid()\n",
    "    plt.xlabel('time (s)')\n",
    "    plt.ylabel('strain')\n",
    "    plt.title(eventname+' template at D_eff = 1 Mpc')\n",
    "    \n",
    "    plt.subplot(4,1,2)\n",
    "    plt.plot(ttime,template_p)\n",
    "    plt.xlim([-1.1,0.1])\n",
    "    plt.grid()\n",
    "    plt.xlabel('time (s)')\n",
    "    plt.ylabel('strain')\n",
    "    #plt.title(eventname+' template at D_eff = 1 Mpc')\n",
    "    \n",
    "    plt.subplot(4,1,3)\n",
    "    plt.plot(ttime,fGW)\n",
    "    plt.xlim([-1.1,0.1])\n",
    "    plt.grid()\n",
    "    plt.xlabel('time (s)')\n",
    "    plt.ylabel('f_GW')\n",
    "    #plt.title(eventname+' template f_GW')\n",
    "    \n",
    "    plt.subplot(4,1,4)\n",
    "    plt.plot(ttime,voverc)\n",
    "    plt.xlim([-1.1,0.1])\n",
    "    plt.grid()\n",
    "    plt.xlabel('time (s)')\n",
    "    plt.ylabel('v/c')\n",
    "    #plt.title(eventname+' template v/c')\n",
    "    plt.savefig('figures/'+eventname+'_template.'+plottype)"
   ]
  },
  {
   "cell_type": "markdown",
   "metadata": {
    "user_expressions": []
   },
   "source": [
    "## Matched filtering to find the signal\n",
    "\n",
    "Matched filtering is the optimal way to find a known signal buried in stationary, Gaussian noise. It is the standard technique used by the gravitational wave community to find GW signals from compact binary mergers in noisy detector data.\n",
    "\n",
    "For some loud signals, it may be possible to see the signal in the whitened data or spectrograms. On the other hand, low signal-to-noise ratio (SNR) signals or signals which are of long duration in time may not be visible, even in the whitened data.  LIGO scientists use matched filtering to find such \"hidden\" signals. A matched filter works by compressing the entire signal into one time bin (by convention, the \"end time\" of the waveform).\n",
    "\n",
    "LIGO uses a rather elaborate software suite to match the data against a family of such signal waveforms (\"templates\"), to find the best match. This procedure helps to \"optimally\" separate signals from instrumental noise, and to infer the parameters of the source (masses, spins, sky location, orbit orientation, etc) from the best match templates. \n",
    "\n",
    "A blind search requires us to search over many compact binary merger templates (eg, 250,000) with different masses and spins, as well as over all times in all detectors, and then requiring triggers coincident in time and template between detectors. It's an extremely complex and computationally-intensive \"search pipeline\".\n",
    "\n",
    "Here, we simplify things, using only one template (the one identified in the full search as being a good match to the data). \n",
    "\n",
    "Assuming that the data around this event is fairly Gaussian and stationary, we'll use this simple method to identify the signal (matching the template) in our 32 second stretch of data. The peak in the SNR vs time is a \"single-detector event trigger\".\n",
    "\n",
    "This calculation is described in section IV of:\n",
    "FINDCHIRP: An algorithm for detection of gravitational waves from inspiraling compact binaries\n",
    "B. Allen et al., PHYSICAL REVIEW D 85, 122006 (2012) ; http://arxiv.org/abs/gr-qc/0509116\n",
    "\n",
    "The full search procedure is described in\n",
    "GW150914: First results from the search for binary black hole coalescence with Advanced LIGO,\n",
    "The LIGO Scientific Collaboration, the Virgo Collaboration, http://arxiv.org/abs/1602.03839"
   ]
  },
  {
   "cell_type": "code",
   "execution_count": null,
   "metadata": {},
   "outputs": [],
   "source": [
    "# -- To calculate the PSD of the data, choose an overlap and a window (common to all detectors)\n",
    "#   that minimizes \"spectral leakage\" https://en.wikipedia.org/wiki/Spectral_leakage\n",
    "NFFT = 4*fs\n",
    "psd_window = np.blackman(NFFT)\n",
    "# and a 50% overlap:\n",
    "NOVL = NFFT/2\n",
    "\n",
    "# define the complex template, common to both detectors:\n",
    "template = (template_p + template_c*1.j) \n",
    "# We will record the time where the data match the END of the template.\n",
    "etime = time+template_offset\n",
    "# the length and sampling rate of the template MUST match that of the data.\n",
    "datafreq = np.fft.fftfreq(template.size)*fs\n",
    "df = np.abs(datafreq[1] - datafreq[0])\n",
    "\n",
    "# to remove effects at the beginning and end of the data stretch, window the data\n",
    "# https://en.wikipedia.org/wiki/Window_function#Tukey_window\n",
    "try:   dwindow = signal.tukey(template.size, alpha=1./8)  # Tukey window preferred, but requires recent scipy version \n",
    "except: dwindow = signal.blackman(template.size)          # Blackman window OK if Tukey is not available\n",
    "\n",
    "# prepare the template fft.\n",
    "template_fft = np.fft.fft(template*dwindow) / fs\n",
    "\n",
    "# loop over the detectors\n",
    "dets = ['H1', 'L1']\n",
    "for det in dets:\n",
    "\n",
    "    if det == 'L1': data = strain_L1.copy()\n",
    "    else:           data = strain_H1.copy()\n",
    "\n",
    "    # -- Calculate the PSD of the data.  Also use an overlap, and window:\n",
    "    data_psd, freqs = mlab.psd(data, Fs = fs, NFFT = NFFT, window=psd_window, noverlap=NOVL)\n",
    "\n",
    "    # Take the Fourier Transform (FFT) of the data and the template (with dwindow)\n",
    "    data_fft = np.fft.fft(data*dwindow) / fs\n",
    "\n",
    "    # -- Interpolate to get the PSD values at the needed frequencies\n",
    "    power_vec = np.interp(np.abs(datafreq), freqs, data_psd)\n",
    "\n",
    "    # -- Calculate the matched filter output in the time domain:\n",
    "    # Multiply the Fourier Space template and data, and divide by the noise power in each frequency bin.\n",
    "    # Taking the Inverse Fourier Transform (IFFT) of the filter output puts it back in the time domain,\n",
    "    # so the result will be plotted as a function of time off-set between the template and the data:\n",
    "    optimal = data_fft * template_fft.conjugate() / power_vec\n",
    "    optimal_time = 2*np.fft.ifft(optimal)*fs\n",
    "\n",
    "    # -- Normalize the matched filter output:\n",
    "    # Normalize the matched filter output so that we expect a value of 1 at times of just noise.\n",
    "    # Then, the peak of the matched filter output will tell us the signal-to-noise ratio (SNR) of the signal.\n",
    "    sigmasq = 1*(template_fft * template_fft.conjugate() / power_vec).sum() * df\n",
    "    sigma = np.sqrt(np.abs(sigmasq))\n",
    "    SNR_complex = optimal_time/sigma\n",
    "    \n",
    "    # shift the SNR vector by the template length so that the peak is at the END of the template\n",
    "    peaksample = int(data.size / 2)  # location of peak in the template\n",
    "    SNR_complex = np.roll(SNR_complex,peaksample)\n",
    "    SNR = abs(SNR_complex)\n",
    "\n",
    "    # find the time and SNR value at maximum:\n",
    "    indmax = np.argmax(SNR)\n",
    "    timemax = time[indmax]\n",
    "    SNRmax = SNR[indmax]\n",
    "\n",
    "    # Calculate the \"effective distance\" (see FINDCHIRP paper for definition)\n",
    "    # d_eff = (8. / SNRmax)*D_thresh\n",
    "    d_eff = sigma / SNRmax\n",
    "    # -- Calculate optimal horizon distnace\n",
    "    horizon = sigma/8\n",
    "\n",
    "    # Extract time offset and phase at peak\n",
    "    phase = np.angle(SNR_complex[indmax])\n",
    "    offset = (indmax-peaksample)\n",
    "\n",
    "    # apply time offset, phase, and d_eff to template \n",
    "    template_phaseshifted = np.real(template*np.exp(1j*phase))    # phase shift the template\n",
    "    template_rolled = np.roll(template_phaseshifted,offset) / d_eff  # Apply time offset and scale amplitude\n",
    "    \n",
    "    # Whiten and band-pass the template for plotting\n",
    "    template_whitened = whiten(template_rolled,interp1d(freqs, data_psd),dt)  # whiten the template\n",
    "    template_match = filtfilt(bb, ab, template_whitened) / normalization # Band-pass the template\n",
    "    \n",
    "    print('For detector {0}, maximum at {1:.4f} with SNR = {2:.1f}, D_eff = {3:.2f}, horizon = {4:0.1f} Mpc' \n",
    "          .format(det,timemax,SNRmax,d_eff,horizon))\n",
    "\n",
    "    if make_plots:\n",
    "\n",
    "        # plotting changes for the detectors:\n",
    "        if det == 'L1': \n",
    "            pcolor='g'\n",
    "            strain_whitenbp = strain_L1_whitenbp\n",
    "            template_L1 = template_match.copy()\n",
    "        else:\n",
    "            pcolor='r'\n",
    "            strain_whitenbp = strain_H1_whitenbp\n",
    "            template_H1 = template_match.copy()\n",
    "\n",
    "        # -- Plot the result\n",
    "        plt.figure(figsize=(10,8))\n",
    "        plt.subplot(2,1,1)\n",
    "        plt.plot(time-timemax, SNR, pcolor,label=det+' SNR(t)')\n",
    "        #plt.ylim([0,25.])\n",
    "        plt.grid('on')\n",
    "        plt.ylabel('SNR')\n",
    "        plt.xlabel('Time since {0:.4f}'.format(timemax))\n",
    "        plt.legend(loc='upper left')\n",
    "        plt.title(det+' matched filter SNR around event')\n",
    "\n",
    "        # zoom in\n",
    "        plt.subplot(2,1,2)\n",
    "        plt.plot(time-timemax, SNR, pcolor,label=det+' SNR(t)')\n",
    "        plt.grid('on')\n",
    "        plt.ylabel('SNR')\n",
    "        plt.xlim([-0.15,0.05])\n",
    "        #plt.xlim([-0.3,+0.3])\n",
    "        plt.grid('on')\n",
    "        plt.xlabel('Time since {0:.4f}'.format(timemax))\n",
    "        plt.legend(loc='upper left')\n",
    "        plt.savefig('figures/'+eventname+\"_\"+det+\"_SNR.\"+plottype)\n",
    "\n",
    "        plt.figure(figsize=(10,8))\n",
    "        plt.subplot(2,1,1)\n",
    "        plt.plot(time-tevent,strain_whitenbp,pcolor,label=det+' whitened h(t)')\n",
    "        plt.plot(time-tevent,template_match,'k',label='Template(t)')\n",
    "        plt.ylim([-10,10])\n",
    "        plt.xlim([-0.15,0.05])\n",
    "        plt.grid('on')\n",
    "        plt.xlabel('Time since {0:.4f}'.format(timemax))\n",
    "        plt.ylabel('whitened strain (units of noise stdev)')\n",
    "        plt.legend(loc='upper left')\n",
    "        plt.title(det+' whitened data around event')\n",
    "\n",
    "        plt.subplot(2,1,2)\n",
    "        plt.plot(time-tevent,strain_whitenbp-template_match,pcolor,label=det+' resid')\n",
    "        plt.ylim([-10,10])\n",
    "        plt.xlim([-0.15,0.05])\n",
    "        plt.grid('on')\n",
    "        plt.xlabel('Time since {0:.4f}'.format(timemax))\n",
    "        plt.ylabel('whitened strain (units of noise stdev)')\n",
    "        plt.legend(loc='upper left')\n",
    "        plt.title(det+' Residual whitened data after subtracting template around event')\n",
    "        plt.savefig('figures/'+eventname+\"_\"+det+\"_matchtime.\"+plottype)\n",
    "                 \n",
    "        # -- Display PSD and template\n",
    "        # must multiply by sqrt(f) to plot template fft on top of ASD:\n",
    "        plt.figure(figsize=(10,6))\n",
    "        template_f = np.absolute(template_fft)*np.sqrt(np.abs(datafreq)) / d_eff\n",
    "        plt.loglog(datafreq, template_f, 'k', label='template(f)*sqrt(f)')\n",
    "        plt.loglog(freqs, np.sqrt(data_psd),pcolor, label=det+' ASD')\n",
    "        plt.xlim(20, fs/2)\n",
    "        plt.ylim(1e-24, 1e-20)\n",
    "        plt.grid()\n",
    "        plt.xlabel('frequency (Hz)')\n",
    "        plt.ylabel('strain noise ASD (strain/rtHz), template h(f)*rt(f)')\n",
    "        plt.legend(loc='upper left')\n",
    "        plt.title(det+' ASD and template around event')\n",
    "        plt.savefig('figures/'+eventname+\"_\"+det+\"_matchfreq.\"+plottype)"
   ]
  },
  {
   "cell_type": "markdown",
   "metadata": {
    "user_expressions": []
   },
   "source": [
    "### Notes on these results\n",
    "\n",
    "* We make use of only one template, with a simple ASD estimate. The full analysis produces a Bayesian posterior result using many nearby templates. It does a more careful job estimating the ASD, and includes effects of uncertain calibration. \n",
    "* As a result, our parameters (SNR, masses, spins, D_eff) are somewhat different from what you will see in our papers.\n",
    "* We compute an \"effective distance\" D_eff. Is is NOT an estimate of the actual (luminosity) distance, which depends also on the source location and orbit orientation.\n",
    "* These distances are at non-zero redshift, so cosmological effects must be taken into account (neglected here). Since we estimate the BH masses using the phase evolution of the waveform, which has been redshifted, our masses are themselves \"redshifted\". The true source masses must be corrected for this effect; they are smaller by a factor (1+z).\n"
   ]
  },
  {
   "cell_type": "markdown",
   "metadata": {
    "user_expressions": []
   },
   "source": [
    "## Make sound files\n",
    "\n",
    "Make wav (sound) files from the filtered, downsampled data, +-2s around the event."
   ]
  },
  {
   "cell_type": "code",
   "execution_count": 23,
   "metadata": {
    "collapsed": false,
    "jupyter": {
     "outputs_hidden": false
    },
    "scrolled": true
   },
   "outputs": [
    {
     "ename": "TypeError",
     "evalue": "'>=' not supported between instances of 'NoneType' and 'float'",
     "output_type": "error",
     "traceback": [
      "\u001b[0;31m---------------------------------------------------------------------------\u001b[0m",
      "\u001b[0;31mTypeError\u001b[0m                                 Traceback (most recent call last)",
      "Cell \u001b[0;32mIn[23], line 6\u001b[0m\n\u001b[1;32m      3\u001b[0m deltat_sound \u001b[38;5;241m=\u001b[39m \u001b[38;5;241m2.\u001b[39m                     \u001b[38;5;66;03m# seconds around the event\u001b[39;00m\n\u001b[1;32m      5\u001b[0m \u001b[38;5;66;03m# index into the strain time series for this time interval:\u001b[39;00m\n\u001b[0;32m----> 6\u001b[0m indxd \u001b[38;5;241m=\u001b[39m np\u001b[38;5;241m.\u001b[39mwhere((\u001b[43mtime\u001b[49m\u001b[43m \u001b[49m\u001b[38;5;241;43m>\u001b[39;49m\u001b[38;5;241;43m=\u001b[39;49m\u001b[43m \u001b[49m\u001b[43mtevent\u001b[49m\u001b[38;5;241;43m-\u001b[39;49m\u001b[43mdeltat_sound\u001b[49m) \u001b[38;5;241m&\u001b[39m (time \u001b[38;5;241m<\u001b[39m tevent\u001b[38;5;241m+\u001b[39mdeltat_sound))\n\u001b[1;32m      8\u001b[0m \u001b[38;5;66;03m# write the files:\u001b[39;00m\n\u001b[1;32m      9\u001b[0m write_wavfile(\u001b[38;5;124m'\u001b[39m\u001b[38;5;124maudio/\u001b[39m\u001b[38;5;124m'\u001b[39m\u001b[38;5;241m+\u001b[39meventname\u001b[38;5;241m+\u001b[39m\u001b[38;5;124m\"\u001b[39m\u001b[38;5;124m_H1_whitenbp.wav\u001b[39m\u001b[38;5;124m\"\u001b[39m,\u001b[38;5;28mint\u001b[39m(fs), strain_H1_whitenbp[indxd])\n",
      "\u001b[0;31mTypeError\u001b[0m: '>=' not supported between instances of 'NoneType' and 'float'"
     ]
    }
   ],
   "source": [
    "# make wav (sound) files from the whitened data, +-2s around the event.\n",
    "\n",
    "deltat_sound = 2.                     # seconds around the event\n",
    "\n",
    "# index into the strain time series for this time interval:\n",
    "indxd = np.where((time >= tevent-deltat_sound) & (time < tevent+deltat_sound))\n",
    "\n",
    "# write the files:\n",
    "write_wavfile('audio/'+eventname+\"_H1_whitenbp.wav\",int(fs), strain_H1_whitenbp[indxd])\n",
    "write_wavfile('audio/'+eventname+\"_L1_whitenbp.wav\",int(fs), strain_L1_whitenbp[indxd])\n",
    "\n",
    "# re-whiten the template using the smoothed PSD; it sounds better!\n",
    "template_p_smooth = whiten(template_p,psd_smooth,dt)\n",
    "\n",
    "# and the template, sooming in on [-3,+1] seconds around the merger:\n",
    "indxt = np.where((time >= (time[0]+template_offset-deltat_sound)) & (time < (time[0]+template_offset+deltat_sound)))\n",
    "write_wavfile('audio/'+eventname+\"_template_whiten.wav\",int(fs), template_p_smooth[indxt])\n"
   ]
  },
  {
   "cell_type": "markdown",
   "metadata": {
    "user_expressions": []
   },
   "source": [
    "### Listen to the whitened template and data\n",
    "\n",
    "With good headphones, you may be able to hear a faint thump in the middle; that's our signal!"
   ]
  },
  {
   "cell_type": "code",
   "execution_count": 24,
   "metadata": {
    "collapsed": false,
    "jupyter": {
     "outputs_hidden": false
    }
   },
   "outputs": [
    {
     "name": "stdout",
     "output_type": "stream",
     "text": [
      "audio/GW150914_template_whiten.wav\n"
     ]
    },
    {
     "data": {
      "text/html": [
       "\n",
       "                <audio  controls=\"controls\" >\n",
       "                    <source src=\"data:audio/x-wav;base64,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\" type=\"audio/x-wav\" />\n",
       "                    Your browser does not support the audio element.\n",
       "                </audio>\n",
       "              "
      ],
      "text/plain": [
       "<IPython.lib.display.Audio object>"
      ]
     },
     "execution_count": 24,
     "metadata": {},
     "output_type": "execute_result"
    }
   ],
   "source": [
    "from IPython.display import Audio\n",
    "\n",
    "fna = 'audio/'+eventname+\"_template_whiten.wav\"\n",
    "print(fna)\n",
    "Audio(fna)"
   ]
  },
  {
   "cell_type": "code",
   "execution_count": 25,
   "metadata": {
    "collapsed": false,
    "jupyter": {
     "outputs_hidden": false
    }
   },
   "outputs": [
    {
     "name": "stdout",
     "output_type": "stream",
     "text": [
      "audio/GW150914_H1_whitenbp.wav\n"
     ]
    },
    {
     "data": {
      "text/html": [
       "\n",
       "                <audio  controls=\"controls\" >\n",
       "                    <source src=\"data:audio/x-wav;base64,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\" type=\"audio/x-wav\" />\n",
       "                    Your browser does not support the audio element.\n",
       "                </audio>\n",
       "              "
      ],
      "text/plain": [
       "<IPython.lib.display.Audio object>"
      ]
     },
     "execution_count": 25,
     "metadata": {},
     "output_type": "execute_result"
    }
   ],
   "source": [
    "fna = 'audio/'+eventname+\"_H1_whitenbp.wav\"\n",
    "print(fna)\n",
    "Audio(fna)"
   ]
  },
  {
   "cell_type": "markdown",
   "metadata": {
    "user_expressions": []
   },
   "source": [
    "### Frequency shift the audio files \n",
    "We can enhance this by increasing the frequency; \n",
    "this is the \"audio\" equivalent of the enhanced visuals that NASA employs on telescope images with \"false color\".\n",
    "\n",
    "The code below will shift the data up by 400 Hz (by taking an FFT, shifting/rolling the frequency series, then inverse fft-ing). The resulting sound file will be noticibly more high-pitched, and the signal will be easier to hear."
   ]
  },
  {
   "cell_type": "code",
   "execution_count": 26,
   "metadata": {
    "collapsed": false,
    "jupyter": {
     "outputs_hidden": false
    }
   },
   "outputs": [
    {
     "ename": "NameError",
     "evalue": "name 'strain_H1_whitenbp' is not defined",
     "output_type": "error",
     "traceback": [
      "\u001b[0;31m---------------------------------------------------------------------------\u001b[0m",
      "\u001b[0;31mNameError\u001b[0m                                 Traceback (most recent call last)",
      "Cell \u001b[0;32mIn[26], line 8\u001b[0m\n\u001b[1;32m      5\u001b[0m fss \u001b[38;5;241m=\u001b[39m \u001b[38;5;28mint\u001b[39m(\u001b[38;5;28mfloat\u001b[39m(fs)\u001b[38;5;241m*\u001b[39m\u001b[38;5;28mfloat\u001b[39m(speedup))\n\u001b[1;32m      7\u001b[0m \u001b[38;5;66;03m# shift frequency of the data\u001b[39;00m\n\u001b[0;32m----> 8\u001b[0m strain_H1_shifted \u001b[38;5;241m=\u001b[39m reqshift(\u001b[43mstrain_H1_whitenbp\u001b[49m,fshift\u001b[38;5;241m=\u001b[39mfshift,sample_rate\u001b[38;5;241m=\u001b[39mfs)\n\u001b[1;32m      9\u001b[0m strain_L1_shifted \u001b[38;5;241m=\u001b[39m reqshift(strain_L1_whitenbp,fshift\u001b[38;5;241m=\u001b[39mfshift,sample_rate\u001b[38;5;241m=\u001b[39mfs)\n\u001b[1;32m     11\u001b[0m \u001b[38;5;66;03m# write the files:\u001b[39;00m\n",
      "\u001b[0;31mNameError\u001b[0m: name 'strain_H1_whitenbp' is not defined"
     ]
    }
   ],
   "source": [
    "# parameters for frequency shift\n",
    "fs = 4096\n",
    "fshift = 400.\n",
    "speedup = 1.\n",
    "fss = int(float(fs)*float(speedup))\n",
    "\n",
    "# shift frequency of the data\n",
    "strain_H1_shifted = reqshift(strain_H1_whitenbp,fshift=fshift,sample_rate=fs)\n",
    "strain_L1_shifted = reqshift(strain_L1_whitenbp,fshift=fshift,sample_rate=fs)\n",
    "\n",
    "# write the files:\n",
    "write_wavfile('audio/'+eventname+\"_H1_shifted.wav\",int(fs), strain_H1_shifted[indxd])\n",
    "write_wavfile('audio/'+eventname+\"_L1_shifted.wav\",int(fs), strain_L1_shifted[indxd])\n",
    "\n",
    "# and the template:\n",
    "template_p_shifted = reqshift(template_p_smooth,fshift=fshift,sample_rate=fs)\n",
    "write_wavfile('audio/'+eventname+\"_template_shifted.wav\",int(fs), template_p_shifted[indxt])"
   ]
  },
  {
   "cell_type": "markdown",
   "metadata": {
    "user_expressions": []
   },
   "source": [
    "### Listen to the frequency-shifted template and data"
   ]
  },
  {
   "cell_type": "code",
   "execution_count": null,
   "metadata": {
    "collapsed": false,
    "jupyter": {
     "outputs_hidden": false
    }
   },
   "outputs": [],
   "source": [
    "fna = 'audio/'+eventname+\"_template_shifted.wav\"\n",
    "print(fna)\n",
    "Audio(fna)"
   ]
  },
  {
   "cell_type": "code",
   "execution_count": 27,
   "metadata": {
    "collapsed": false,
    "jupyter": {
     "outputs_hidden": false
    }
   },
   "outputs": [
    {
     "name": "stdout",
     "output_type": "stream",
     "text": [
      "audio/GW150914_H1_shifted.wav\n"
     ]
    },
    {
     "data": {
      "text/html": [
       "\n",
       "                <audio  controls=\"controls\" >\n",
       "                    <source src=\"data:audio/x-wav;base64,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\" type=\"audio/x-wav\" />\n",
       "                    Your browser does not support the audio element.\n",
       "                </audio>\n",
       "              "
      ],
      "text/plain": [
       "<IPython.lib.display.Audio object>"
      ]
     },
     "execution_count": 27,
     "metadata": {},
     "output_type": "execute_result"
    }
   ],
   "source": [
    "fna = 'audio/'+eventname+\"_H1_shifted.wav\"\n",
    "print(fna)\n",
    "Audio(fna)"
   ]
  },
  {
   "cell_type": "markdown",
   "metadata": {
    "user_expressions": []
   },
   "source": [
    "## Data segments\n",
    "\n",
    "As mentioned above, LIGO strain time series data has gaps (filled with NaNs) when the detectors are not taking valid (\"science quality\") data. Analyzing these data requires the user to loop over \"segments\" of valid data stretches.  For details, see the <a href='https://www.gwosc.org/timeline/'>notes on segments</a> or <a href='https://www.gwosc.org/tutorials/'>introduction to LIGO data files</a>.\n",
    "\n",
    "In the code below, we can check times around this event for gaps in the L1 data.  You are welcome to repeat this with H1 data, with files containing 4096 seconds of data, and with data sampled at 16384 Hz. All of the relevant files can be downloaded from <a href='https://www.gwosc.org/events'>LOSC event pages.</a>\n",
    "\n",
    "We also unpack the DQ and HW injection bits to check what their values are."
   ]
  },
  {
   "cell_type": "code",
   "execution_count": 28,
   "metadata": {
    "collapsed": false,
    "jupyter": {
     "outputs_hidden": false
    }
   },
   "outputs": [
    {
     "name": "stdout",
     "output_type": "stream",
     "text": [
      "Contents of all the key, value pairs in chan_dict\n"
     ]
    },
    {
     "ename": "AttributeError",
     "evalue": "'NoneType' object has no attribute 'items'",
     "output_type": "error",
     "traceback": [
      "\u001b[0;31m---------------------------------------------------------------------------\u001b[0m",
      "\u001b[0;31mAttributeError\u001b[0m                            Traceback (most recent call last)",
      "Cell \u001b[0;32mIn[28], line 8\u001b[0m\n\u001b[1;32m      5\u001b[0m strain, time, chan_dict \u001b[38;5;241m=\u001b[39m rl\u001b[38;5;241m.\u001b[39mloaddata(\u001b[38;5;124m'\u001b[39m\u001b[38;5;124mdata/\u001b[39m\u001b[38;5;124m'\u001b[39m\u001b[38;5;241m+\u001b[39mfn_L1, \u001b[38;5;124m'\u001b[39m\u001b[38;5;124mH1\u001b[39m\u001b[38;5;124m'\u001b[39m)\n\u001b[1;32m      7\u001b[0m \u001b[38;5;28mprint\u001b[39m(\u001b[38;5;124m\"\u001b[39m\u001b[38;5;124mContents of all the key, value pairs in chan_dict\u001b[39m\u001b[38;5;124m\"\u001b[39m)\n\u001b[0;32m----> 8\u001b[0m \u001b[38;5;28;01mfor\u001b[39;00m keys,values \u001b[38;5;129;01min\u001b[39;00m \u001b[43mchan_dict\u001b[49m\u001b[38;5;241;43m.\u001b[39;49m\u001b[43mitems\u001b[49m():\n\u001b[1;32m      9\u001b[0m     \u001b[38;5;28mprint\u001b[39m(keys)\n\u001b[1;32m     10\u001b[0m     \u001b[38;5;28mprint\u001b[39m(values)\n",
      "\u001b[0;31mAttributeError\u001b[0m: 'NoneType' object has no attribute 'items'"
     ]
    }
   ],
   "source": [
    "data_segments = 1\n",
    "if data_segments:\n",
    "    # read in the data at 4096 Hz:\n",
    "    # fn = 'L-L1_LOSC_4_V1-1126259446-32.hdf5'\n",
    "    strain, time, chan_dict = rl.loaddata('data/'+fn_L1, 'H1')\n",
    "\n",
    "    print(\"Contents of all the key, value pairs in chan_dict\")\n",
    "    for keys,values in chan_dict.items():\n",
    "        print(keys)\n",
    "        print(values)\n",
    "\n",
    "    print('Total number of non-NaNs in these data = ',np.sum(~np.isnan(strain)))\n",
    "    print('GPS start, GPS stop and length of  all data in this file = ',time[0], time[-1],len(strain))\n",
    "\n",
    "    # select the level of data quality; default is \"DATA\" but \"CBC_CAT3\" is a conservative choice:\n",
    "    DQflag = 'CBC_CAT3'\n",
    "    # readligo.py method for computing segments (start and stop times with continuous valid data):\n",
    "    segment_list = rl.dq_channel_to_seglist(chan_dict[DQflag])\n",
    "    print('Number of segments with DQflag',DQflag,' = ',len(segment_list))\n",
    "\n",
    "    # loop over seconds and print out start, stop and length:\n",
    "    iseg = 0\n",
    "    for segment in segment_list:\n",
    "        time_seg = time[segment]\n",
    "        seg_strain = strain[segment]\n",
    "        print('GPS start, GPS stop and length of segment',iseg, \\\n",
    "            'in this file = ',time_seg[0], time_seg[-1], len(seg_strain))\n",
    "        iseg = iseg+1\n",
    "        # here is where you would insert code to analyze the data in this segment.\n",
    "\n",
    "    # now look at segments with no CBC hardware injections:\n",
    "    DQflag = 'NO_CBC_HW_INJ'\n",
    "    segment_list = rl.dq_channel_to_seglist(chan_dict['NO_CBC_HW_INJ'])\n",
    "    print('Number of segments with DQflag',DQflag,' = ',len(segment_list))\n",
    "    iseg = 0\n",
    "    for segment in segment_list:\n",
    "        time_seg = time[segment]\n",
    "        seg_strain = strain[segment]\n",
    "        print('GPS start, GPS stop and length of segment',iseg, \\\n",
    "            'in this file = ',time_seg[0], time_seg[-1], len(seg_strain))\n",
    "        iseg = iseg+1\n"
   ]
  },
  {
   "cell_type": "markdown",
   "metadata": {
    "user_expressions": []
   },
   "source": [
    "## Comments on sampling rate\n",
    "\n",
    "LIGO data are acquired at 16384 Hz (2^14 Hz). Here, we have been working with data downsampled to 4096 Hz, to save on download time, disk space, and memory requirements. \n",
    "\n",
    "This is entirely sufficient for signals with no frequency content above f_Nyquist = fs/2 = 2048 Hz, such as signals from higher-mass binary black hole systems; the frequency at which the merger begins (at the innermost stable circular orbit) for equal-mass, spinless black holes is roughly 1557 Hz * (2.8/M_tot), where 2.8 solar masses is the total mass of a canonical binary neutron star system. \n",
    "\n",
    "If, however, you are interested in signals with frequency content above 2048 Hz, you need the data sampled at the full rate of 16384 Hz. "
   ]
  },
  {
   "cell_type": "markdown",
   "metadata": {
    "user_expressions": []
   },
   "source": [
    "## Construct a csv file containing the whitened data and template"
   ]
  },
  {
   "cell_type": "code",
   "execution_count": null,
   "metadata": {
    "collapsed": false,
    "jupyter": {
     "outputs_hidden": false
    }
   },
   "outputs": [],
   "source": [
    "# time vector around event\n",
    "times = time-tevent\n",
    "# zoom in on [-0.2,0.05] seconds around event\n",
    "irange = np.nonzero((times >= -0.2) & (times < 0.05))\n",
    "# construct a data structure for a csv file:\n",
    "dat = [times[irange], strain_H1_whitenbp[irange],strain_L1_whitenbp[irange],\n",
    "      template_H1[irange],template_L1[irange] ]\n",
    "datcsv = np.array(dat).transpose()\n",
    "# make a csv filename, header, and format\n",
    "fncsv = 'data/'+ eventname+'_data.csv'\n",
    "headcsv = eventname+' time-'+str(tevent)+ \\\n",
    "    ' (s),H1_data_whitened,L1_data_whitened,H1_template_whitened,L1_template_whitened'\n",
    "fmtcsv = \",\".join([\"%10.6f\"] * 5)\n",
    "np.savetxt(fncsv, datcsv, fmt=fmtcsv, header=headcsv)\n",
    "\n",
    "print(\"Wrote whitened data to file {0}\".format(fncsv))\n",
    "print(\"You can download this file by clicking 'jupyter' in the top left corner, or using the 'data' menu in Azure.\")"
   ]
  },
  {
   "cell_type": "code",
   "execution_count": null,
   "metadata": {},
   "outputs": [],
   "source": []
  }
 ],
 "metadata": {
  "kernelspec": {
   "display_name": "Python 3 (ipykernel)",
   "language": "python",
   "name": "python3"
  },
  "language_info": {
   "codemirror_mode": {
    "name": "ipython",
    "version": 3
   },
   "file_extension": ".py",
   "mimetype": "text/x-python",
   "name": "python",
   "nbconvert_exporter": "python",
   "pygments_lexer": "ipython3",
   "version": "3.10.8"
  }
 },
 "nbformat": 4,
 "nbformat_minor": 0
}
